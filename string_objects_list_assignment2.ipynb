{
 "cells": [
  {
   "cell_type": "markdown",
   "id": "7563a181",
   "metadata": {},
   "source": [
    "# 1. Create the below pattern using nested for loop in Python.\n",
    "*\n",
    "* *\n",
    "* * *\n",
    "* * * *\n",
    "* * * * *\n",
    "* * * *\n",
    "* * *\n",
    "* *\n",
    "*"
   ]
  },
  {
   "cell_type": "code",
   "execution_count": 3,
   "id": "e1c822a3",
   "metadata": {},
   "outputs": [
    {
     "name": "stdout",
     "output_type": "stream",
     "text": [
      "Enter the maximum number of * to print :5\n",
      "*\n",
      "**\n",
      "***\n",
      "****\n",
      "*****\n",
      "****\n",
      "***\n",
      "**\n",
      "*\n"
     ]
    }
   ],
   "source": [
    "maxStar = int(input(\"Enter the maximum number of * to print :\"))\n",
    "count = 1\n",
    "for numberOfUpperStar in range(1, (maxStar+1), 1) :\n",
    "    print(\"*\"*numberOfUpperStar, end=\"\\n\")\n",
    "    if count == maxStar :\n",
    "        for numberOfLowerStar in range((maxStar-1), 0, -1) :\n",
    "            print(\"*\"*numberOfLowerStar, end=\"\\n\")\n",
    "    count = count + 1\n",
    "        "
   ]
  },
  {
   "cell_type": "markdown",
   "id": "21037046",
   "metadata": {},
   "source": [
    "# 2. Write a Python program to reverse a word after accepting the input from the user."
   ]
  },
  {
   "cell_type": "code",
   "execution_count": null,
   "id": "a090f9fc",
   "metadata": {},
   "outputs": [],
   "source": [
    "userInput = input(\"Enter the string :\")\n",
    "print (\"The reverse string is :\" + \"<\" + userInput[::-1] + \"\")"
   ]
  }
 ],
 "metadata": {
  "kernelspec": {
   "display_name": "Python 3",
   "language": "python",
   "name": "python3"
  },
  "language_info": {
   "codemirror_mode": {
    "name": "ipython",
    "version": 3
   },
   "file_extension": ".py",
   "mimetype": "text/x-python",
   "name": "python",
   "nbconvert_exporter": "python",
   "pygments_lexer": "ipython3",
   "version": "3.8.8"
  }
 },
 "nbformat": 4,
 "nbformat_minor": 5
}
